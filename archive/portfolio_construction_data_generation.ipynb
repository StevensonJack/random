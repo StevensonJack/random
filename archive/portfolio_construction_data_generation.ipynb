{
 "cells": [
  {
   "cell_type": "code",
   "execution_count": 2,
   "metadata": {},
   "outputs": [
    {
     "name": "stderr",
     "output_type": "stream",
     "text": [
      "/Users/jackstevenson/CQF/.venv/lib/python3.9/site-packages/urllib3/__init__.py:35: NotOpenSSLWarning: urllib3 v2 only supports OpenSSL 1.1.1+, currently the 'ssl' module is compiled with 'LibreSSL 2.8.3'. See: https://github.com/urllib3/urllib3/issues/3020\n",
      "  warnings.warn(\n"
     ]
    }
   ],
   "source": [
    "# packages\n",
    "import numpy as np\n",
    "import pandas as pd\n",
    "import os\n",
    "\n",
    "# database\n",
    "import yfinance as yf\n",
    "from sqlalchemy import create_engine, inspect\n",
    "\n",
    "# visualisation\n",
    "import seaborn as sns\n",
    "import plotly.express as px\n",
    "import matplotlib\n",
    "from matplotlib.patches import Patch\n",
    "import matplotlib.pyplot as plt\n",
    "plt.rcParams.update({'figure.max_open_warning': 0})\n",
    "plt.style.use('fivethirtyeight')\n",
    "cmap_data = plt.cm.Paired\n",
    "cmap_cv = plt.cm.coolwarm\n",
    "\n",
    "from tabulate import tabulate\n",
    "import quadprog\n",
    "from scipy.optimize import minimize"
   ]
  },
  {
   "cell_type": "code",
   "execution_count": 3,
   "metadata": {},
   "outputs": [],
   "source": [
    "# manually acquire factor data from f&f site\n",
    "def generate_fama_factor_df():\n",
    "    factor_df = pd.read_csv('/Users/jackstevenson/CQF/Project/F-F_Research_Data_5_Factors_2x3_daily.csv')\n",
    "\n",
    "    factor_df['Date'] = pd.to_datetime(factor_df['Date'], format='%Y%m%d')\n",
    "\n",
    "    factor_df = factor_df.set_index('Date')\n",
    "\n",
    "    # align our data with start date \n",
    "    factor_df = factor_df[factor_df.index >= '2010-09-27']\n",
    "\n",
    "    factor_df.rename(columns={\n",
    "        'SMB': 'Factor SMB', # small business\n",
    "        'HML': 'Factor HML', # value \n",
    "        'RMW': 'Factor RMW', # robust vs weak\n",
    "        'CMA': 'Factor CMA' # conversative minus aggressive\n",
    "        }, inplace=True)\n",
    "\n",
    "    factor_df.drop(columns=['Mkt-RF', 'RF'], axis=1,  inplace=True)\n",
    "\n",
    "    factor_df = factor_df / 100\n",
    "\n",
    "    return factor_df"
   ]
  },
  {
   "cell_type": "code",
   "execution_count": 4,
   "metadata": {},
   "outputs": [
    {
     "name": "stderr",
     "output_type": "stream",
     "text": [
      "[*********************100%%**********************]  15 of 15 completed\n"
     ]
    },
    {
     "data": {
      "text/plain": [
       "3463"
      ]
     },
     "execution_count": 4,
     "metadata": {},
     "output_type": "execute_result"
    }
   ],
   "source": [
    "# create the database\n",
    "\n",
    "# # download (only need close)\n",
    "df = yf.download('IYE IYM IYJ IYC IYK IYH IYF IYW IYZ IDU IYR ^IRX ^VIX ^BCOM AGG', start='2010-09-24', end='2024-06-30')['Close']\n",
    "\n",
    "# What are the 11 GICS sectors\n",
    "# Energy - iShares U.S. Energy ETF (IYE)\n",
    "# Materials - iShares U.S. Materials ETF (IYM)\n",
    "# Industrials - iShares U.S. Industrials ETF (IYJ)\n",
    "# Consumer Discretionary - iShares U.S. Consumer Disc ETF (IYC)\n",
    "# Consumer Staples - iShares U.S. Consumer Staples ETF (IYK)\n",
    "# Health Care - iShares U.S. Healthcare ETF (IYH)\n",
    "# Financials - iShares U.S. Financials ETF (IYF)\n",
    "# Information Technology - iShares U.S. Technology ETF (IYW)\n",
    "# Communication Services - iShares U.S. Telecom ETF (IYZ)\n",
    "# Utilities - iShares U.S. Utilities ETF (IDU)\n",
    "# Real Estate - iShares US Real Estate ETF (IYR)\n",
    "\n",
    "# 3M Treasury\n",
    "# 13 Week Treasury Bill - ^IRX \n",
    "\n",
    "# Exogenous\n",
    "# Volatility - CBOE Volatility Index - (^VIX)\n",
    "# Commodity - Bloomberg Commodity Index Total Return (^BCOM)\n",
    "# Bonds - iShares Core US Aggregate Bond ETF (AGG)\n",
    "\n",
    "# add the factor data and concatenate\n",
    "factor_df = generate_fama_factor_df()\n",
    "\n",
    "df = pd.concat([df, factor_df], axis=1)\n",
    "\n",
    "df.rename(columns={\n",
    "    'IYE': 'Energy',\n",
    "    'IYM': 'Materials',\n",
    "    'IYJ': 'Industrials',\n",
    "    'IYC': 'Consumer Discretionary',\n",
    "    'IYK': 'Consumer Staples',\n",
    "    'IYH': 'Health Care',\n",
    "    'IYF': 'Financials',\n",
    "    'IYW': 'Information Technology',\n",
    "    'IYZ': 'Communication Services',\n",
    "    'IDU': 'Utilities',\n",
    "    'IYR': 'Real Estate',\n",
    "    '^IRX':'3M TB',\n",
    "    '^VIX': 'Volatility (Exo)',\n",
    "    '^BCOM': 'Commodities (Exo)',\n",
    "    'AGG': 'Bonds (Exo)'\n",
    "    }, inplace=True)\n",
    "\n",
    "# # reset index\n",
    "df.reset_index(inplace=True)\n",
    "\n",
    "# # create our engine\n",
    "engine = create_engine(\"sqlite:///project_portfolio.db\")\n",
    "\n",
    "# # if_exits will overwrite the pre-existing table\n",
    "df.to_sql('portfolio_data', engine, if_exists='replace', index=False)"
   ]
  },
  {
   "cell_type": "code",
   "execution_count": null,
   "metadata": {},
   "outputs": [],
   "source": []
  }
 ],
 "metadata": {
  "kernelspec": {
   "display_name": ".venv",
   "language": "python",
   "name": "python3"
  },
  "language_info": {
   "codemirror_mode": {
    "name": "ipython",
    "version": 3
   },
   "file_extension": ".py",
   "mimetype": "text/x-python",
   "name": "python",
   "nbconvert_exporter": "python",
   "pygments_lexer": "ipython3",
   "version": "3.9.6"
  }
 },
 "nbformat": 4,
 "nbformat_minor": 2
}
